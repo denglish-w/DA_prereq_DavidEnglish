{
 "cells": [
  {
   "cell_type": "markdown",
   "id": "7554830f",
   "metadata": {},
   "source": [
    "I'm excited to continue on in this class. Today I learn a TON in the command line 101. I learned that there were more directories than my home directory and figured out that git was installed in the bin. Really cool stuff. The terminal is so cool."
   ]
  },
  {
   "cell_type": "code",
   "execution_count": null,
   "id": "8aab46f6",
   "metadata": {
    "vscode": {
     "languageId": "plaintext"
    }
   },
   "outputs": [],
   "source": [
    "Successfully run a line of python code."
   ]
  }
 ],
 "metadata": {
  "language_info": {
   "name": "python"
  }
 },
 "nbformat": 4,
 "nbformat_minor": 5
}
